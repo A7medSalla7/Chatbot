{
 "cells": [
  {
   "cell_type": "code",
   "execution_count": 1,
   "metadata": {},
   "outputs": [
    {
     "ename": "ModuleNotFoundError",
     "evalue": "No module named 'exceptions'",
     "output_type": "error",
     "traceback": [
      "\u001b[31m---------------------------------------------------------------------------\u001b[39m",
      "\u001b[31mModuleNotFoundError\u001b[39m                       Traceback (most recent call last)",
      "\u001b[36mCell\u001b[39m\u001b[36m \u001b[39m\u001b[32mIn[1]\u001b[39m\u001b[32m, line 1\u001b[39m\n\u001b[32m----> \u001b[39m\u001b[32m1\u001b[39m \u001b[38;5;28;01mfrom\u001b[39;00m\u001b[38;5;250m \u001b[39m\u001b[34;01mdocx\u001b[39;00m\u001b[38;5;250m \u001b[39m\u001b[38;5;28;01mimport\u001b[39;00m Document\n\u001b[32m      2\u001b[39m \u001b[38;5;28;01mimport\u001b[39;00m\u001b[38;5;250m \u001b[39m\u001b[34;01mos\u001b[39;00m\n\u001b[32m      3\u001b[39m \u001b[38;5;28;01mfrom\u001b[39;00m\u001b[38;5;250m \u001b[39m\u001b[34;01mpprint\u001b[39;00m\u001b[38;5;250m \u001b[39m\u001b[38;5;28;01mimport\u001b[39;00m pprint\n",
      "\u001b[36mFile \u001b[39m\u001b[32mc:\\Users\\Lenovo\\AppData\\Local\\Programs\\Python\\Python313\\Lib\\site-packages\\docx.py:30\u001b[39m\n\u001b[32m     27\u001b[39m \u001b[38;5;28;01mexcept\u001b[39;00m \u001b[38;5;167;01mImportError\u001b[39;00m:\n\u001b[32m     28\u001b[39m     TAGS = {}\n\u001b[32m---> \u001b[39m\u001b[32m30\u001b[39m \u001b[38;5;28;01mfrom\u001b[39;00m\u001b[38;5;250m \u001b[39m\u001b[34;01mexceptions\u001b[39;00m\u001b[38;5;250m \u001b[39m\u001b[38;5;28;01mimport\u001b[39;00m \u001b[38;5;167;01mPendingDeprecationWarning\u001b[39;00m\n\u001b[32m     31\u001b[39m \u001b[38;5;28;01mfrom\u001b[39;00m\u001b[38;5;250m \u001b[39m\u001b[34;01mwarnings\u001b[39;00m\u001b[38;5;250m \u001b[39m\u001b[38;5;28;01mimport\u001b[39;00m warn\n\u001b[32m     33\u001b[39m \u001b[38;5;28;01mimport\u001b[39;00m\u001b[38;5;250m \u001b[39m\u001b[34;01mlogging\u001b[39;00m\n",
      "\u001b[31mModuleNotFoundError\u001b[39m: No module named 'exceptions'"
     ]
    }
   ],
   "source": [
    "from docx import Document\n",
    "import os\n",
    "from pprint import pprint"
   ]
  },
  {
   "cell_type": "code",
   "execution_count": 5,
   "metadata": {},
   "outputs": [
    {
     "data": {
      "text/plain": [
       "['credit card.docx',\n",
       " 'Current Account.docx',\n",
       " 'loans.docx',\n",
       " 'Payroll.docx',\n",
       " 'Saving account.docx']"
      ]
     },
     "execution_count": 5,
     "metadata": {},
     "output_type": "execute_result"
    }
   ],
   "source": [
    "doc_dir_path = 'docs/'\n",
    "os.listdir(doc_dir_path)"
   ]
  },
  {
   "cell_type": "code",
   "execution_count": 11,
   "metadata": {},
   "outputs": [],
   "source": [
    "import re\n",
    "\n",
    "\n",
    "def clean_text(text):\n",
    "    # Replace two or more consecutive empty lines with a single empty line\n",
    "    cleaned_text = re.sub(r'\\n\\s*\\n\\s*\\n+', '\\n\\n', text)\n",
    "    return cleaned_text\n",
    "\n",
    "\n",
    "def word_wrap(text, width=80):\n",
    "    \"\"\"\n",
    "    Wraps the input text to fit within a specified width.\n",
    "\n",
    "    :param text: The text to be wrapped.\n",
    "    :param width: The maximum width of each line. Default is 80 characters.\n",
    "    :return: The wrapped text.\n",
    "    \"\"\"\n",
    "    wrapped_text = []\n",
    "    words = text.split()\n",
    "    current_line = []\n",
    "\n",
    "    for word in words:\n",
    "        # If adding the new word exceeds the width, start a new line\n",
    "        if sum(len(w) + 1 for w in current_line) + len(word) > width:\n",
    "            wrapped_text.append(' '.join(current_line))\n",
    "            current_line = [word]\n",
    "        else:\n",
    "            current_line.append(word)\n",
    "\n",
    "    # Add the last line\n",
    "    if current_line:\n",
    "        wrapped_text.append(' '.join(current_line))\n",
    "\n",
    "    return '\\n'.join(wrapped_text)"
   ]
  },
  {
   "cell_type": "code",
   "execution_count": 7,
   "metadata": {},
   "outputs": [],
   "source": [
    "def read_docs(doc_dir_path):\n",
    "    docs = []\n",
    "    for filename in os.listdir(doc_dir_path):\n",
    "        filepath = os.path.join(doc_dir_path, filename)\n",
    "        content = ''\n",
    "        if os.path.isfile(filepath):\n",
    "            doc = Document(filepath)\n",
    "            full_text = []\n",
    "            for para in doc.paragraphs:\n",
    "                full_text.append(para.text)\n",
    "\n",
    "            content = '\\n'.join(full_text)\n",
    "\n",
    "        docs.append({'id': filename.replace('.docx', '').title(),\n",
    "                    'content': clean_text(content)})\n",
    "    return docs"
   ]
  },
  {
   "cell_type": "code",
   "execution_count": 8,
   "metadata": {},
   "outputs": [],
   "source": [
    "res_docs = read_docs(doc_dir_path)"
   ]
  },
  {
   "cell_type": "code",
   "execution_count": 9,
   "metadata": {},
   "outputs": [
    {
     "name": "stdout",
     "output_type": "stream",
     "text": [
      "\n",
      "Product Type: Credit Card\n",
      "Product Name: Classic Credit Card\n",
      "Product Description: The Classic Credit Card offers a range of benefits including the ability to make both local and international transactions, with a 100% credit limit available for cash withdrawals. Cardholders can enjoy a grace period of up to 56 days and access to supplementary cards. The card includes features such as contactless payment, installment options for purchases, and international usage after two months of issuance. Fees include issuance and renewal charges of EGP 250 each, with supplementary cards costing EGP 100. Interest rates are 4% per month, and penalties for delays or exceeding credit limits are EGP 75. Additional charges apply for cash withdrawals and transactions outside Egypt. The card also provides access to discounts and promotions and allows online and contactless purchases.\n",
      "\n",
      "Product Type: Credit Card\n",
      "Product Name: Platinum Visa - Master Credit Card\n",
      "Product Description: The Platinum Visa - Master Credit Card offers an array of benefits including internet banking, purchase protection, and access to VIP lounges in over 25 airports worldwide. Cardholders can earn 2 reward points for every EGP spent domestically, which can be redeemed for electronic vouchers or cashback. The card also provides an extended warranty period for purchases, and various discounts, such as an 11% discount on Gettransfer.com and 20% off Careem rides using a Mastercard. The card has international usage available after 2-6 months of issuance, with limits for online and contactless purchases both inside and outside Egypt. Fees include EGP 500 for issuance and renewal, and a 4% monthly interest rate, with penalties for late payments and exceeding credit limits. Installment services are available with varying interest rates, and early repayment fees apply.\n",
      "\n",
      "Product Type: Credit Card\n",
      "Product Name: Titanium Credit Card\n",
      "Product Description:\n",
      "The Titanium Credit Card provides a range of benefits, including the ability to use the card for both local and international purchases, with cash withdrawals permitted up to 100% of the credit limit. Cardholders enjoy a grace period of up to 56 days, a low monthly payment requirement of 5%, and access to exclusive VIP lounges at select international airports. The card also supports online and contactless transactions. Key transaction limits include a daily cash withdrawal limit of EGP 30,000 within Egypt and EGP 3,000 internationally. The card incurs fees such as EGP 350 for issuance and renewal, a 4% monthly interest rate, and additional charges for exceeding credit limits or delays in payment.\n",
      "\n",
      "Product Type: Credit Card  \n",
      "Product Name: Visa Signature Card\n",
      "Product Description: The Visa Signature Card offers extensive benefits, such as free access to over 1000 airport lounges worldwide, a grace period of up to 56 days, and the flexibility to use the entire credit limit for cash withdrawals. It supports international usage after two months and includes features like contactless payments and SMS alerts. The card comes with an issuance fee of 2500 EGP per year, a 4% monthly interest rate, and additional charges for international transactions. Installment plans are available for purchases and cash withdrawals, allowing repayment over up to 36 months at competitive interest rates.\n",
      "\n",
      "Product Type: Credit Card\n",
      "Product Name: World and World Elite MasterCard\n",
      "Product Description: The World and World Elite MasterCard provides a range of premium benefits, including unlimited access to over 1,200 airport lounges worldwide through the Dragon Pass network, as well as discounts on travel, shopping, and dining. The card offers automatic enrollment in the BM Rewards program, where cardholders can earn up to 3.5 points for every EGP spent, redeemable for electronic vouchers or cashback. The card supports international usage, with specific limits for both local and international transactions. Key charges include a fee of EGP 2,500 for issuance and renewal of the World card, and EGP 8,000 for the World Elite card. Additional fees include a 4% monthly interest rate, charges for cash withdrawals, and penalties for late payments or exceeding the credit limit. Installment plans are available for up to 36 months, with early repayment fees applicable.\n",
      "\n",
      "Product Type: Credit Card\n",
      "Product Name: Asatha MasterCard\n",
      "Product Description: The Asatha MasterCard is a comprehensive credit card option that can be secured with an in-kind warranty, personal guarantee, assets, or cash guarantees. It is designed for both local and international transactions, with repayments made in Egyptian pounds. Key benefits include a grace period of up to 57 days, the availability of multiple supplementary cards, and installment payment options for purchases spread over 36 months with a special interest rate. Cardholders can also benefit from promotions and discounts through the MasterCard Buy 1 Get 1 application, free SMS notifications after each transaction, and a complimentary monthly statement. Usage limits include a maximum monthly spending limit of 400,000 EGP and specific limits for contactless transactions. The credit limit for this card ranges from EGP 1,000 to EGP 150,000. Fees associated with the card include an issuance fee of EGP 150, a renewal fee of EGP 75, and various charges for supplementary cards, replacement cards, and balance inquiries. The card also carries a monthly interest rate of 3% (decreasing) and additional fees for late payments and international transactions.\n",
      "\n",
      "Product Type: Credit Card\n",
      "Product Name: Al Araby Card\n",
      "Product Description: The Al Araby Card is a credit card designed to offer a loan for purchasing durable goods and electronic devices from Al Araby Company, using an installment scheme. Cardholders can make purchases at Al Araby sales outlets and accredited distributors throughout Egypt. Benefits include the ability to spread the cost over 24 monthly installments with no down payment and low interest rates. Additionally, cardholders can utilize Al Araby maintenance centers and make payments at any Banque Misr branch or BM branch located in hotels and airports, operating 24 hours a day. To obtain the card, applicants must provide a valid national identity card, a recent utility receipt, and proof of income through various accepted documents depending on employment status, along with additional documentation for self-employed individuals or business owners.\n",
      "\n",
      "Product Type: Credit Card\n",
      "Product Name: Gold Credit Cards\n",
      "Product Description: The Gold Credit Card offers a wide range of benefits including the ability to use the card for both local and international transactions, with up to 100% of the credit limit available for cash withdrawals. It features the longest grace period of up to 56 days, and cardholders can enjoy a low payment limit of 5% of monthly usage. The card can be used online, and supplementary cards can be issued. It provides various transaction limits, including a maximum of 400,000 EGP per month for online purchases within Egypt and 7,500 EGP for international transactions. Cash withdrawals have daily and monthly limits, and transactions can be managed through BM ATMs, branches, and internet banking. The card also offers promotions, discounts, and rewards, including 10,000 welcome points and a range of redemption options. Key charges include a 250 EGP issuance fee, renewal fees, and interest rates of 4% monthly. Installment payment options are available with specific interest rate\n",
      "\n"
     ]
    }
   ],
   "source": [
    "print(res_docs[0]['content'])"
   ]
  },
  {
   "cell_type": "code",
   "execution_count": 10,
   "metadata": {},
   "outputs": [],
   "source": [
    "all_content = '\\n\\n'.join([doc['content'] for doc in res_docs])"
   ]
  },
  {
   "cell_type": "code",
   "execution_count": 11,
   "metadata": {},
   "outputs": [],
   "source": [
    "from langchain.text_splitter import RecursiveCharacterTextSplitter, SentenceTransformersTokenTextSplitter"
   ]
  },
  {
   "cell_type": "code",
   "execution_count": 12,
   "metadata": {},
   "outputs": [],
   "source": [
    "character_splitter = RecursiveCharacterTextSplitter(\n",
    "    separators=[\"\\n\\n\", \"\\n\", \".\", \"!\", \"?\", \",\", \";\", \" \", \"\"],\n",
    "    chunk_size=1000,\n",
    "    chunk_overlap=100\n",
    ")"
   ]
  },
  {
   "cell_type": "code",
   "execution_count": 13,
   "metadata": {},
   "outputs": [],
   "source": [
    "character_split_texts = character_splitter.split_text(\n",
    "    text=all_content\n",
    ")"
   ]
  },
  {
   "cell_type": "code",
   "execution_count": 14,
   "metadata": {},
   "outputs": [
    {
     "name": "stdout",
     "output_type": "stream",
     "text": [
      "Product Type: Credit Card\n",
      "Product Name: Asatha MasterCard\n",
      "\n",
      "Total chunks: 37\n"
     ]
    }
   ],
   "source": [
    "print(character_split_texts[5])\n",
    "print(f\"\\nTotal chunks: {len(character_split_texts)}\")"
   ]
  },
  {
   "cell_type": "code",
   "execution_count": 15,
   "metadata": {},
   "outputs": [
    {
     "name": "stderr",
     "output_type": "stream",
     "text": [
      "c:\\Users\\hima\\AppData\\Local\\Programs\\Python\\Python311\\Lib\\site-packages\\transformers\\tokenization_utils_base.py:1601: FutureWarning: `clean_up_tokenization_spaces` was not set. It will be set to `True` by default. This behavior will be depracted in transformers v4.45, and will be then set to `False` by default. For more details check this issue: https://github.com/huggingface/transformers/issues/31884\n",
      "  warnings.warn(\n"
     ]
    }
   ],
   "source": [
    "token_splitter = SentenceTransformersTokenTextSplitter(\n",
    "    chunk_overlap=0,\n",
    "    tokens_per_chunk=256\n",
    ")"
   ]
  },
  {
   "cell_type": "code",
   "execution_count": 16,
   "metadata": {},
   "outputs": [],
   "source": [
    "token_split_texts = []\n",
    "for text in character_split_texts:\n",
    "    token_split_texts += token_splitter.split_text(text)"
   ]
  },
  {
   "cell_type": "code",
   "execution_count": 17,
   "metadata": {},
   "outputs": [
    {
     "name": "stdout",
     "output_type": "stream",
     "text": [
      "product type : credit card product name : platinum visa - master credit card product description : the platinum visa - master credit card offers an array of benefits including internet banking, purchase protection, and access to vip lounges in over 25 airports worldwide. cardholders can earn 2 reward points for every egp spent domestically, which can be redeemed for electronic vouchers or cashback. the card also provides an extended warranty period for purchases, and various discounts, such as an 11 % discount on gettransfer. com and 20 % off careem rides using a mastercard. the card has international usage available after 2 - 6 months of issuance, with limits for online and contactless purchases both inside and outside egypt. fees include egp 500 for issuance and renewal, and a 4 % monthly interest rate, with penalties for late payments and exceeding credit limits. installment services are available with varying interest rates, and early repayment fees apply.\n",
      "\n",
      "Total chunks: 37\n"
     ]
    }
   ],
   "source": [
    "print(token_split_texts[1])\n",
    "print(f\"\\nTotal chunks: {len(token_split_texts)}\")"
   ]
  },
  {
   "cell_type": "code",
   "execution_count": 18,
   "metadata": {},
   "outputs": [],
   "source": [
    "import chromadb\n",
    "from chromadb.utils.embedding_functions import SentenceTransformerEmbeddingFunction\n",
    "\n",
    "embedding_function = SentenceTransformerEmbeddingFunction()"
   ]
  },
  {
   "cell_type": "code",
   "execution_count": 19,
   "metadata": {},
   "outputs": [
    {
     "name": "stdout",
     "output_type": "stream",
     "text": [
      "[[0.014443992637097836, 0.02853766828775406, -0.00611827801913023, 0.0033783791586756706, -0.047200240194797516, -0.015899082645773888, 0.06143093481659889, 0.03314751386642456, -0.030062370002269745, -0.012941266410052776, -0.019773082807660103, 0.02250715158879757, -0.06029749661684036, 0.011913609690964222, 0.026892902329564095, 0.0031092066783457994, 0.06084461882710457, -0.05087249353528023, -0.006364523433148861, 0.037964966148138046, 0.09198709577322006, -0.10366902500391006, -0.016510073095560074, 0.027267219498753548, -0.021844498813152313, -0.013097005896270275, -0.011068581603467464, 0.04404715448617935, 0.0055885217152535915, -0.03723466768860817, 0.05463098734617233, 0.037858761847019196, 0.10777626931667328, 0.014495913870632648, -0.1112748309969902, -0.034084636718034744, -0.06673093885183334, -0.002038982231169939, -0.02376371994614601, -0.05633348226547241, 0.018502887338399887, 0.04083627089858055, 0.03255241736769676, -0.028331853449344635, 0.04529084265232086, -0.011464603245258331, -0.0201256163418293, 0.021374227479100227, -0.05404673144221306, 0.07821682840585709, 0.06101476401090622, 0.03773718699812889, -0.09670034795999527, -0.034537967294454575, -0.04007625952363014, -0.055129554122686386, -0.015734292566776276, -0.09984299540519714, 0.049188293516635895, -0.07711439579725266, 0.03364973142743111, -0.01951269991695881, -0.048266902565956116, 0.0034870824310928583, -0.09417962282896042, -0.008814550936222076, 0.04282257333397865, 0.022427640855312347, 0.0314384326338768, 0.004772967658936977, -0.014076090417802334, -0.033865656703710556, -0.11539403349161148, 0.02817903831601143, -0.045271195471286774, 0.09915249049663544, 0.08925528079271317, -0.018853550776839256, 0.020814664661884308, -0.007970111444592476, 0.01908371038734913, -0.010824652388691902, 0.07126321643590927, -0.0470280684530735, 0.06637989729642868, -0.07931933552026749, -0.05298341438174248, 0.03890586271882057, -0.00602659722790122, -0.12040325254201889, 0.12204772979021072, 0.0402342863380909, 0.0218019038438797, -0.008842496201395988, 0.03615323081612587, -0.03422560915350914, -0.07159566879272461, -0.07867322862148285, -0.02175832726061344, -0.0011961384443566203, 0.0845031887292862, 0.09790867567062378, -0.024395370855927467, -0.01203375868499279, 0.05208776518702507, -0.004250075668096542, -0.02839348465204239, 0.09544865041971207, 0.04606717824935913, -0.01257557887583971, -0.06716647744178772, -0.014242952689528465, 0.0698380395770073, -0.05654135346412659, -0.021508723497390747, 0.15451911091804504, -0.15645678341388702, 0.01342057716101408, 0.11519701778888702, 0.12835541367530823, 0.0660741999745369, 0.011061142198741436, 0.022587914019823074, -0.014169106259942055, -0.09298684448003769, 0.03212310001254082, 0.020488103851675987, 2.6023968212427225e-33, -0.04756588488817215, 0.019834429025650024, -0.02274305932223797, -0.07172094285488129, -0.031017625704407692, 0.0412154458463192, 0.01135772280395031, 0.029227524995803833, -0.015117578208446503, 0.04926806315779686, -0.005606094375252724, 0.03134807199239731, 0.0656345784664154, 0.08528925478458405, 0.059399619698524475, -0.014639746397733688, 0.03403223305940628, 0.0060686832293868065, 0.10972858220338821, 0.08288267254829407, -0.008127999491989613, -0.08731477707624435, 0.026050226762890816, 0.011618686839938164, 0.0207406897097826, 0.02162032201886177, -0.003384864190593362, 0.0021332092583179474, 0.09517141431570053, 0.01824738271534443, 0.02413383685052395, -0.005379050504416227, -0.027193371206521988, 0.032604020088911057, 0.03932735323905945, 0.06333454698324203, -0.004045010544359684, 0.006514015607535839, 0.04072728753089905, -0.05735524743795395, -0.029256615787744522, 0.01602429337799549, -0.054419223219156265, 0.026198454201221466, -0.027394158765673637, 0.009203908033668995, 0.0816941186785698, -0.010478708893060684, -0.040439628064632416, 0.09510323405265808, -0.0572894848883152, 0.043764252215623856, -0.07771123945713043, 0.02875182032585144, -0.01309304777532816, 0.0009247342823073268, -0.005414432846009731, 0.018586574122309685, 0.0010505736572667956, -0.05472177267074585, -0.0006504153716377914, -0.08100848644971848, -0.03997206687927246, 0.035132940858602524, -0.03688311204314232, 0.05236365273594856, -0.05383329093456268, -0.03986214101314545, -0.11072812229394913, 0.07126808166503906, 0.00785108283162117, -0.03340313956141472, 0.05506686493754387, -0.02294708974659443, -0.08155850321054459, -0.02326580509543419, 0.04606242477893829, 0.01039791014045477, -0.03149847686290741, 0.04867595434188843, -0.0960070788860321, 0.03519807383418083, 0.008387085981667042, 0.003931424114853144, -0.012189689092338085, 0.04537250101566315, 0.062319591641426086, -0.014359998516738415, 0.015754368156194687, -0.057897426187992096, 0.00840714666992426, -0.041548438370227814, 0.03593549132347107, 0.010692647658288479, 0.08073079586029053, -2.9595050255248254e-33, 0.00678648054599762, 0.028795471414923668, -0.019751358777284622, 0.03557620942592621, 0.009542103856801987, -0.014489132910966873, 0.038466472178697586, 0.18700124323368073, 0.03397061303257942, 0.008917129598557949, -0.005880285985767841, 0.034302763640880585, 0.08812696486711502, 0.04562481492757797, 0.05186578631401062, -0.07739264518022537, 0.004609663970768452, 0.060422632843256, -0.012297173030674458, -0.02507518231868744, 0.028596146032214165, 0.013357351534068584, 0.018072688952088356, 0.0076629240065813065, 0.018347211182117462, 0.047689665108919144, -0.05583855137228966, -0.07214360684156418, -0.006534329149872065, -0.01701870746910572, -0.014922760426998138, 0.01105955895036459, -0.07005027681589127, 0.006811849307268858, -0.0806376188993454, -0.04739135876297951, 0.03580842167139053, 0.10004201531410217, 0.030918730422854424, 0.1143781840801239, 0.03223986178636551, -0.014541500248014927, 0.07413730025291443, -0.00997980311512947, 0.004251803271472454, 0.06554009020328522, 0.04020855948328972, 0.031062105670571327, -0.01424681767821312, -0.03710147365927696, -0.10228224098682404, -0.05226808413863182, -0.005380180664360523, 0.04434386268258095, -0.03787100687623024, -0.007861873134970665, 0.061553116887807846, -0.038140349090099335, -0.07017212361097336, -0.04881991446018219, -0.00248435465618968, 0.04329540953040123, 0.056820642203092575, 0.018053051084280014, -0.027792373672127724, -0.006411437410861254, 0.018638677895069122, 0.039594925940036774, -0.03607963025569916, 0.03598448261618614, -0.0513223372399807, -0.000641064892988652, -0.015811147168278694, 0.011757781729102135, -0.042132772505283356, 0.086969293653965, -0.03902241960167885, -0.09187046438455582, -0.00826222077012062, -0.1429930329322815, 0.012150248512625694, -0.025759946554899216, 0.06690813601016998, 0.0007562156533822417, -0.00021967444627080113, -0.09679196774959564, -0.05394505336880684, -0.048121269792318344, 0.019863521680235863, -0.010438777506351471, -0.04308716207742691, -0.05796242877840996, 0.016059763729572296, -0.021314354613423347, -0.010544082149863243, -4.40766605436238e-08, -0.048190467059612274, -0.0011173095554113388, -0.022405298426747322, 0.03624001145362854, 0.04412936046719551, 0.061766963452100754, 0.003066508797928691, 0.02168600633740425, -0.021663567051291466, -0.008576984517276287, 0.07873081415891647, 0.019658241420984268, -0.1028241217136383, -0.04497421532869339, -0.12219851464033127, -0.02505386620759964, 0.04864971339702606, -0.05690523236989975, 0.02850848250091076, -0.0007781648309901357, -0.027773654088377953, -0.015036918222904205, 0.05729355663061142, -0.06174681708216667, -0.03530833125114441, -0.02467753365635872, 0.11838700622320175, 0.09622760862112045, 0.020758289843797684, -0.06214185059070587, -0.05737766623497009, -0.013963176868855953, 0.03848538547754288, 0.034730520099401474, -0.014810463413596153, -0.042112525552511215, -0.02267114445567131, -0.02157466486096382, -0.0374288484454155, 0.04528733715415001, 0.030553044751286507, -0.10339633375406265, -0.03673790022730827, -0.053467053920030594, 0.019485212862491608, -0.034741152077913284, -0.0885135754942894, -0.04575943946838379, 0.05130111426115036, 0.035375483334064484, -0.07091400772333145, -0.011457030661404133, -0.015920108184218407, 0.02843388542532921, 0.040420401841402054, -0.019232412800192833, -0.018530962988734245, 0.014066388830542564, 0.020246919244527817, 0.02607491798698902, 0.026153814047574997, -0.06013071537017822, -0.05693638697266579, -0.057159483432769775]]\n"
     ]
    }
   ],
   "source": [
    "print(embedding_function([token_split_texts[10]]))"
   ]
  },
  {
   "cell_type": "code",
   "execution_count": 20,
   "metadata": {},
   "outputs": [
    {
     "data": {
      "text/plain": [
       "37"
      ]
     },
     "execution_count": 20,
     "metadata": {},
     "output_type": "execute_result"
    }
   ],
   "source": [
    "chroma_client = chromadb.Client()\n",
    "chroma_collection = chroma_client.get_or_create_collection(\n",
    "    name=\"banking-products-chroma\",\n",
    "    embedding_function=embedding_function\n",
    ")\n",
    "\n",
    "new_ids = [str(id_) for id_ in range(len(token_split_texts))]\n",
    "\n",
    "chroma_collection.add(\n",
    "    ids=new_ids,\n",
    "    documents=token_split_texts\n",
    ")\n",
    "chroma_collection.count()"
   ]
  },
  {
   "cell_type": "code",
   "execution_count": 21,
   "metadata": {},
   "outputs": [],
   "source": [
    "import pickle\n",
    "\n",
    "# Assuming 'token_split_texts' contains the documents and 'new_ids' contains the IDs\n",
    "\n",
    "# Save the data to disk\n",
    "with open('chroma_data/collection_data.pkl', 'wb') as file:\n",
    "    pickle.dump({\n",
    "        'ids': new_ids,\n",
    "        'documents': token_split_texts\n",
    "    }, file)"
   ]
  },
  {
   "cell_type": "code",
   "execution_count": 7,
   "metadata": {},
   "outputs": [],
   "source": [
    "import chromadb\n",
    "from chromadb.utils.embedding_functions import SentenceTransformerEmbeddingFunction\n",
    "import pickle\n",
    "\n",
    "\n",
    "def load_chroma_collection():\n",
    "\n",
    "    chroma_client = chromadb.Client()\n",
    "    embedding_function = SentenceTransformerEmbeddingFunction()\n",
    "\n",
    "    chroma_collection = chroma_client.get_or_create_collection(\n",
    "        name=\"banking-products-chroma\",\n",
    "        embedding_function=embedding_function\n",
    "    )\n",
    "\n",
    "    with open('chroma_data/collection_data.pkl', 'rb') as file:\n",
    "        data = pickle.load(file)\n",
    "\n",
    "    # Extract IDs and documents\n",
    "    new_ids = data['ids']\n",
    "    token_split_texts = data['documents']\n",
    "\n",
    "    chroma_collection.add(\n",
    "        ids=new_ids,\n",
    "        documents=token_split_texts\n",
    "    )\n",
    "    return chroma_collection"
   ]
  },
  {
   "cell_type": "code",
   "execution_count": 8,
   "metadata": {},
   "outputs": [],
   "source": [
    "chroma_collection = load_chroma_collection()"
   ]
  },
  {
   "cell_type": "code",
   "execution_count": 9,
   "metadata": {},
   "outputs": [],
   "source": [
    "# query = '''\n",
    "# What are the loan options available, and what are their interest rates?\n",
    "# '''\n",
    "query = '''\n",
    "What are the loan for machinery and equipment?\n",
    "'''"
   ]
  },
  {
   "cell_type": "code",
   "execution_count": null,
   "metadata": {},
   "outputs": [],
   "source": [
    "\n",
    "res_docs = chroma_collection.query(\n",
    "    query_texts=[query],\n",
    "    n_results=10\n",
    ")['documents'][0]  # type: ignore"
   ]
  },
  {
   "cell_type": "code",
   "execution_count": 12,
   "metadata": {},
   "outputs": [
    {
     "name": "stdout",
     "output_type": "stream",
     "text": [
      "product type : loans product name : equipment financing product product\n",
      "description : the equipment financing product is a loan designed for financing\n",
      "the purchase, replacement, or refurbishment of machinery and equipment for\n",
      "factories. it supports both new and used machinery and offers medium to long -\n",
      "term financing with a maximum term of 5 years, including up to 9 months of grace\n",
      "period. the loan covers up to 70 % of the value of new machinery and 60 % for\n",
      "used machinery. required documentation includes certified financial statements (\n",
      "3 years, with a minimum of 2 years ), recent tax and insurance status, a\n",
      "financial and technical study from an accredited consultant, quotes for the\n",
      "machinery, and various business licenses and registrations.\n",
      "\n",
      "\n",
      "product type : loans product name : medical equipment financing product product\n",
      "description : the medical equipment financing product is a loan designed to\n",
      "finance medical equipment and devices for laboratories, radiological centers,\n",
      "private hospitals, and treatment centers. it offers financing up to 90 % of the\n",
      "value of the equipment with a maximum term of 5 years, including a grace period\n",
      "of up to 9 months. required documents include certified financial statements (\n",
      "spanning over 3 years, with at least 2 years ), a recent copy of tax and\n",
      "insurance status, a financial and technical study from an accredited consultant\n",
      "office, a quote for the machinery, and various business registrations and\n",
      "licenses. this product serves the private medical sector across all\n",
      "governorates.\n",
      "\n",
      "\n",
      "product _ type : loans product _ name : short - term financing for working\n",
      "capital product description : this loan product offers short - term financing to\n",
      "support the working capital needs of existing manufacturing, retail, and service\n",
      "enterprises. eligible businesses must have yearly revenues between 1 and 50\n",
      "million egyptian pounds. loans range from 100 thousand to 2 million pounds, with\n",
      "repayment terms between 1 - 6 months and no grace period. required documents\n",
      "include a national id, commercial registry extract, electricity bill, tax card,\n",
      "and p. o. s. statements. recent audited financial statements are necessary for\n",
      "businesses with revenues over 20 million egp.\n",
      "\n",
      "\n",
      "product type : loans product name : mashroui mashrouak product description :\n",
      "mashroui mashrouak is a loan product designed to support existing projects with\n",
      "sales between egp 1 million and egp 50 million, focusing on development,\n",
      "expansion, replacement, and renewal. it provides financing for various\n",
      "enterprises, including industrial, commercial, services, and environmentally -\n",
      "friendly projects, such as clean energy initiatives. the loan features a 5 %\n",
      "simple diminishing interest rate for industrial, services, and professions, with\n",
      "a competitive rate for commercial activities. loan amounts range from egp 250,\n",
      "000 to egp 8 million, with terms between 1 to 5 years, including a grace period\n",
      "tailored to the project. required documents include a recent transcript from the\n",
      "commercial registry, tax card, activity license, taxation and insurance status,\n",
      "property documents, company budgets, and a feasibility study for new projects.\n",
      "\n",
      "\n",
      "product type : loans product name : digital small business loan \" express \"\n",
      "product description : the digital small business loan \" express \" provides\n",
      "financing for individual establishments and companies with sales ranging from\n",
      "egp 1 million to less than egp 50 million. loan amounts range from egp 100, 000\n",
      "to egp 2 million, with a 5 % decreasing interest rate for service and industrial\n",
      "activities, and a competitive rate for commercial activities. the loan can be\n",
      "granted within 5 working days, requiring only 5 essential documents. loan terms\n",
      "vary : up to 3 years for working capital, up to 5 years for machinery and\n",
      "equipment, and up to 4 years for combined purposes. financing covers up to 80 %\n",
      "for machinery and equipment and 100 % for working capital. required documents\n",
      "include a recent commercial registry transcript, financial statements, tax and\n",
      "insurance status, national id, tax card, articles of incorporation, and supplier\n",
      "records or quotations.\n",
      "\n",
      "\n",
      "product type : loans product name : mashrou ’ ak 1 product description :\n",
      "provides loans ranging from egp 5, 000 to less than egp 50, 000 or up to egp\n",
      "250, 000. a 1 % charge is deducted from the loan amount. benefits include the\n",
      "possibility of immediate renewal upon full repayment, with the project requiring\n",
      "reassessment for renewal. accelerated payment is allowed with a 3 % commission\n",
      "on the remaining balance, but renewal is restricted to every 6 months.\n",
      "disbursement is in cash up to egp 100, 000, with amounts exceeding this\n",
      "partially disbursed via banking cheques. required documents include a lease or\n",
      "ownership deed, recent public utilities receipts, valid national ids, and\n",
      "additional financial documentation.\n",
      "\n",
      "\n",
      "product type : loans product name : working capital financing product product\n",
      "description : the working capital financing product offers short - term\n",
      "financing for operational needs, up to a year with renewal options. it is\n",
      "intended for small and medium enterprises in egypt, including industrial,\n",
      "commercial, and service businesses. the financing can reach up to egp 7 million,\n",
      "with rates based on the product flyer. required documents include a corporate\n",
      "gazette, cvs of board members, recent budgets approved by an accountant, a\n",
      "commercial registry document, a professional license, tax card, personal\n",
      "identification, a tax and insurance certificate, and a statement of suppliers\n",
      "and customers.\n",
      "\n",
      "\n",
      "product type : loans product name : mashrou'ak 2 product description : offers\n",
      "loans from egp 5, 000 to less than egp 50, 000 or up to egp 250, 000, with a 1 %\n",
      "charge deducted from the loan value. benefits include immediate renewal upon\n",
      "full repayment and a 3 % commission for accelerated payment, with renewal\n",
      "restricted to after 6 months. disbursement is in cash up to egp 100, 000, with\n",
      "amounts over this provided partially via cheques. required documents include a\n",
      "lease or ownership deed, recent utilities receipts, valid ids, and financial\n",
      "\n",
      "\n",
      "product type : loans product name : business vehicle financing product product\n",
      "description : the business vehicle financing product is a loan for financing\n",
      "vehicles used in business activities, such as trucks, buses, and microbuses. it\n",
      "caters to commercial, industrial, petroleum, tourism, transport, distribution,\n",
      "and pharmaceutical companies. the loan term is medium to long, up to 5 years,\n",
      "with a maximum of 9 months grace period. it offers up to egp 5 million, covering\n",
      "80 % of the vehicle's value. required documents include certified financial\n",
      "statements, recent tax and insurance status, financial flow disclosure,\n",
      "equipment quotes, and business licenses and registrations. this product aids in\n",
      "the development of industrial, commercial, and service sectors.\n",
      "\n",
      "\n",
      "product type : loans product name : loan product for financing pos and qr code\n",
      "merchants product description : this medium - term loan is designed to finance\n",
      "working capital for small projects with annual sales between one million to less\n",
      "than 50 million pounds, including individual and corporate establishments. it\n",
      "offers loans ranging from egp 100 thousand to egp 3 million with a term between\n",
      "12 to 36 months. customers can benefit from a 5 % decreasing interest rate if\n",
      "subject to the central bank of egypt ’ s instructions, or a competitive rate for\n",
      "commercial activities if not. the loan is secured against cash flows from pos\n",
      "and qr code transactions. required documents include a recent transcript from\n",
      "the commercial registry, tax card, activity license, taxation and insurance\n",
      "status, project location ’ s ownership deed or lease contract, financial\n",
      "budgets, and articles of incorporation.\n",
      "\n",
      "\n"
     ]
    }
   ],
   "source": [
    "for res in res_docs:\n",
    "    print(word_wrap(res))\n",
    "    print('\\n')"
   ]
  },
  {
   "cell_type": "code",
   "execution_count": 13,
   "metadata": {},
   "outputs": [],
   "source": [
    "from sentence_transformers import CrossEncoder\n",
    "import numpy as np\n",
    "import warnings\n",
    "warnings.filterwarnings('ignore')\n",
    "cross_encoder = CrossEncoder('cross-encoder/ms-marco-MiniLM-L-6-v2')"
   ]
  },
  {
   "cell_type": "code",
   "execution_count": 14,
   "metadata": {},
   "outputs": [
    {
     "data": {
      "text/plain": [
       "array([ 8.621017 ,  5.628974 , -4.83948  , -4.7934055,  4.427843 ,\n",
       "       -9.209896 , -5.6856685, -9.222131 , -0.5042026, -6.449566 ],\n",
       "      dtype=float32)"
      ]
     },
     "execution_count": 14,
     "metadata": {},
     "output_type": "execute_result"
    }
   ],
   "source": [
    "pairs = [[query, doc] for doc in res_docs]\n",
    "scores = cross_encoder.predict(pairs)\n",
    "scores"
   ]
  },
  {
   "cell_type": "code",
   "execution_count": 15,
   "metadata": {},
   "outputs": [
    {
     "data": {
      "text/plain": [
       "array([0, 1, 4, 8, 3, 2, 6, 9, 5, 7], dtype=int64)"
      ]
     },
     "execution_count": 15,
     "metadata": {},
     "output_type": "execute_result"
    }
   ],
   "source": [
    "new_sorted_indexes = np.argsort(scores)[::-1]\n",
    "new_sorted_indexes"
   ]
  },
  {
   "cell_type": "code",
   "execution_count": 16,
   "metadata": {},
   "outputs": [
    {
     "data": {
      "text/plain": [
       "array(['product type : loans product name : equipment financing product product description : the equipment financing product is a loan designed for financing the purchase, replacement, or refurbishment of machinery and equipment for factories. it supports both new and used machinery and offers medium to long - term financing with a maximum term of 5 years, including up to 9 months of grace period. the loan covers up to 70 % of the value of new machinery and 60 % for used machinery. required documentation includes certified financial statements ( 3 years, with a minimum of 2 years ), recent tax and insurance status, a financial and technical study from an accredited consultant, quotes for the machinery, and various business licenses and registrations.',\n",
       "       'product type : loans product name : medical equipment financing product product description : the medical equipment financing product is a loan designed to finance medical equipment and devices for laboratories, radiological centers, private hospitals, and treatment centers. it offers financing up to 90 % of the value of the equipment with a maximum term of 5 years, including a grace period of up to 9 months. required documents include certified financial statements ( spanning over 3 years, with at least 2 years ), a recent copy of tax and insurance status, a financial and technical study from an accredited consultant office, a quote for the machinery, and various business registrations and licenses. this product serves the private medical sector across all governorates.',\n",
       "       'product type : loans product name : digital small business loan \" express \" product description : the digital small business loan \" express \" provides financing for individual establishments and companies with sales ranging from egp 1 million to less than egp 50 million. loan amounts range from egp 100, 000 to egp 2 million, with a 5 % decreasing interest rate for service and industrial activities, and a competitive rate for commercial activities. the loan can be granted within 5 working days, requiring only 5 essential documents. loan terms vary : up to 3 years for working capital, up to 5 years for machinery and equipment, and up to 4 years for combined purposes. financing covers up to 80 % for machinery and equipment and 100 % for working capital. required documents include a recent commercial registry transcript, financial statements, tax and insurance status, national id, tax card, articles of incorporation, and supplier records or quotations.',\n",
       "       \"product type : loans product name : business vehicle financing product product description : the business vehicle financing product is a loan for financing vehicles used in business activities, such as trucks, buses, and microbuses. it caters to commercial, industrial, petroleum, tourism, transport, distribution, and pharmaceutical companies. the loan term is medium to long, up to 5 years, with a maximum of 9 months grace period. it offers up to egp 5 million, covering 80 % of the vehicle's value. required documents include certified financial statements, recent tax and insurance status, financial flow disclosure, equipment quotes, and business licenses and registrations. this product aids in the development of industrial, commercial, and service sectors.\",\n",
       "       'product type : loans product name : mashroui mashrouak product description : mashroui mashrouak is a loan product designed to support existing projects with sales between egp 1 million and egp 50 million, focusing on development, expansion, replacement, and renewal. it provides financing for various enterprises, including industrial, commercial, services, and environmentally - friendly projects, such as clean energy initiatives. the loan features a 5 % simple diminishing interest rate for industrial, services, and professions, with a competitive rate for commercial activities. loan amounts range from egp 250, 000 to egp 8 million, with terms between 1 to 5 years, including a grace period tailored to the project. required documents include a recent transcript from the commercial registry, tax card, activity license, taxation and insurance status, property documents, company budgets, and a feasibility study for new projects.',\n",
       "       'product _ type : loans product _ name : short - term financing for working capital product description : this loan product offers short - term financing to support the working capital needs of existing manufacturing, retail, and service enterprises. eligible businesses must have yearly revenues between 1 and 50 million egyptian pounds. loans range from 100 thousand to 2 million pounds, with repayment terms between 1 - 6 months and no grace period. required documents include a national id, commercial registry extract, electricity bill, tax card, and p. o. s. statements. recent audited financial statements are necessary for businesses with revenues over 20 million egp.',\n",
       "       'product type : loans product name : working capital financing product product description : the working capital financing product offers short - term financing for operational needs, up to a year with renewal options. it is intended for small and medium enterprises in egypt, including industrial, commercial, and service businesses. the financing can reach up to egp 7 million, with rates based on the product flyer. required documents include a corporate gazette, cvs of board members, recent budgets approved by an accountant, a commercial registry document, a professional license, tax card, personal identification, a tax and insurance certificate, and a statement of suppliers and customers.',\n",
       "       'product type : loans product name : loan product for financing pos and qr code merchants product description : this medium - term loan is designed to finance working capital for small projects with annual sales between one million to less than 50 million pounds, including individual and corporate establishments. it offers loans ranging from egp 100 thousand to egp 3 million with a term between 12 to 36 months. customers can benefit from a 5 % decreasing interest rate if subject to the central bank of egypt ’ s instructions, or a competitive rate for commercial activities if not. the loan is secured against cash flows from pos and qr code transactions. required documents include a recent transcript from the commercial registry, tax card, activity license, taxation and insurance status, project location ’ s ownership deed or lease contract, financial budgets, and articles of incorporation.',\n",
       "       'product type : loans product name : mashrou ’ ak 1 product description : provides loans ranging from egp 5, 000 to less than egp 50, 000 or up to egp 250, 000. a 1 % charge is deducted from the loan amount. benefits include the possibility of immediate renewal upon full repayment, with the project requiring reassessment for renewal. accelerated payment is allowed with a 3 % commission on the remaining balance, but renewal is restricted to every 6 months. disbursement is in cash up to egp 100, 000, with amounts exceeding this partially disbursed via banking cheques. required documents include a lease or ownership deed, recent public utilities receipts, valid national ids, and additional financial documentation.',\n",
       "       \"product type : loans product name : mashrou'ak 2 product description : offers loans from egp 5, 000 to less than egp 50, 000 or up to egp 250, 000, with a 1 % charge deducted from the loan value. benefits include immediate renewal upon full repayment and a 3 % commission for accelerated payment, with renewal restricted to after 6 months. disbursement is in cash up to egp 100, 000, with amounts over this provided partially via cheques. required documents include a lease or ownership deed, recent utilities receipts, valid ids, and financial\"],\n",
       "      dtype='<U962')"
      ]
     },
     "execution_count": 16,
     "metadata": {},
     "output_type": "execute_result"
    }
   ],
   "source": [
    "new_sorted_docs = np.array(res_docs)[new_sorted_indexes]\n",
    "new_sorted_docs"
   ]
  },
  {
   "cell_type": "code",
   "execution_count": 17,
   "metadata": {},
   "outputs": [
    {
     "name": "stdout",
     "output_type": "stream",
     "text": [
      "product type : loans product name : equipment financing product product\n",
      "description : the equipment financing product is a loan designed for financing\n",
      "the purchase, replacement, or refurbishment of machinery and equipment for\n",
      "factories. it supports both new and used machinery and offers medium to long -\n",
      "term financing with a maximum term of 5 years, including up to 9 months of grace\n",
      "period. the loan covers up to 70 % of the value of new machinery and 60 % for\n",
      "used machinery. required documentation includes certified financial statements (\n",
      "3 years, with a minimum of 2 years ), recent tax and insurance status, a\n",
      "financial and technical study from an accredited consultant, quotes for the\n",
      "machinery, and various business licenses and registrations.\n",
      "\n",
      "\n",
      "product type : loans product name : medical equipment financing product product\n",
      "description : the medical equipment financing product is a loan designed to\n",
      "finance medical equipment and devices for laboratories, radiological centers,\n",
      "private hospitals, and treatment centers. it offers financing up to 90 % of the\n",
      "value of the equipment with a maximum term of 5 years, including a grace period\n",
      "of up to 9 months. required documents include certified financial statements (\n",
      "spanning over 3 years, with at least 2 years ), a recent copy of tax and\n",
      "insurance status, a financial and technical study from an accredited consultant\n",
      "office, a quote for the machinery, and various business registrations and\n",
      "licenses. this product serves the private medical sector across all\n",
      "governorates.\n",
      "\n",
      "\n",
      "product type : loans product name : digital small business loan \" express \"\n",
      "product description : the digital small business loan \" express \" provides\n",
      "financing for individual establishments and companies with sales ranging from\n",
      "egp 1 million to less than egp 50 million. loan amounts range from egp 100, 000\n",
      "to egp 2 million, with a 5 % decreasing interest rate for service and industrial\n",
      "activities, and a competitive rate for commercial activities. the loan can be\n",
      "granted within 5 working days, requiring only 5 essential documents. loan terms\n",
      "vary : up to 3 years for working capital, up to 5 years for machinery and\n",
      "equipment, and up to 4 years for combined purposes. financing covers up to 80 %\n",
      "for machinery and equipment and 100 % for working capital. required documents\n",
      "include a recent commercial registry transcript, financial statements, tax and\n",
      "insurance status, national id, tax card, articles of incorporation, and supplier\n",
      "records or quotations.\n",
      "\n",
      "\n",
      "product type : loans product name : business vehicle financing product product\n",
      "description : the business vehicle financing product is a loan for financing\n",
      "vehicles used in business activities, such as trucks, buses, and microbuses. it\n",
      "caters to commercial, industrial, petroleum, tourism, transport, distribution,\n",
      "and pharmaceutical companies. the loan term is medium to long, up to 5 years,\n",
      "with a maximum of 9 months grace period. it offers up to egp 5 million, covering\n",
      "80 % of the vehicle's value. required documents include certified financial\n",
      "statements, recent tax and insurance status, financial flow disclosure,\n",
      "equipment quotes, and business licenses and registrations. this product aids in\n",
      "the development of industrial, commercial, and service sectors.\n",
      "\n",
      "\n",
      "product type : loans product name : mashroui mashrouak product description :\n",
      "mashroui mashrouak is a loan product designed to support existing projects with\n",
      "sales between egp 1 million and egp 50 million, focusing on development,\n",
      "expansion, replacement, and renewal. it provides financing for various\n",
      "enterprises, including industrial, commercial, services, and environmentally -\n",
      "friendly projects, such as clean energy initiatives. the loan features a 5 %\n",
      "simple diminishing interest rate for industrial, services, and professions, with\n",
      "a competitive rate for commercial activities. loan amounts range from egp 250,\n",
      "000 to egp 8 million, with terms between 1 to 5 years, including a grace period\n",
      "tailored to the project. required documents include a recent transcript from the\n",
      "commercial registry, tax card, activity license, taxation and insurance status,\n",
      "property documents, company budgets, and a feasibility study for new projects.\n",
      "\n",
      "\n",
      "product _ type : loans product _ name : short - term financing for working\n",
      "capital product description : this loan product offers short - term financing to\n",
      "support the working capital needs of existing manufacturing, retail, and service\n",
      "enterprises. eligible businesses must have yearly revenues between 1 and 50\n",
      "million egyptian pounds. loans range from 100 thousand to 2 million pounds, with\n",
      "repayment terms between 1 - 6 months and no grace period. required documents\n",
      "include a national id, commercial registry extract, electricity bill, tax card,\n",
      "and p. o. s. statements. recent audited financial statements are necessary for\n",
      "businesses with revenues over 20 million egp.\n",
      "\n",
      "\n",
      "product type : loans product name : working capital financing product product\n",
      "description : the working capital financing product offers short - term\n",
      "financing for operational needs, up to a year with renewal options. it is\n",
      "intended for small and medium enterprises in egypt, including industrial,\n",
      "commercial, and service businesses. the financing can reach up to egp 7 million,\n",
      "with rates based on the product flyer. required documents include a corporate\n",
      "gazette, cvs of board members, recent budgets approved by an accountant, a\n",
      "commercial registry document, a professional license, tax card, personal\n",
      "identification, a tax and insurance certificate, and a statement of suppliers\n",
      "and customers.\n",
      "\n",
      "\n",
      "product type : loans product name : loan product for financing pos and qr code\n",
      "merchants product description : this medium - term loan is designed to finance\n",
      "working capital for small projects with annual sales between one million to less\n",
      "than 50 million pounds, including individual and corporate establishments. it\n",
      "offers loans ranging from egp 100 thousand to egp 3 million with a term between\n",
      "12 to 36 months. customers can benefit from a 5 % decreasing interest rate if\n",
      "subject to the central bank of egypt ’ s instructions, or a competitive rate for\n",
      "commercial activities if not. the loan is secured against cash flows from pos\n",
      "and qr code transactions. required documents include a recent transcript from\n",
      "the commercial registry, tax card, activity license, taxation and insurance\n",
      "status, project location ’ s ownership deed or lease contract, financial\n",
      "budgets, and articles of incorporation.\n",
      "\n",
      "\n",
      "product type : loans product name : mashrou ’ ak 1 product description :\n",
      "provides loans ranging from egp 5, 000 to less than egp 50, 000 or up to egp\n",
      "250, 000. a 1 % charge is deducted from the loan amount. benefits include the\n",
      "possibility of immediate renewal upon full repayment, with the project requiring\n",
      "reassessment for renewal. accelerated payment is allowed with a 3 % commission\n",
      "on the remaining balance, but renewal is restricted to every 6 months.\n",
      "disbursement is in cash up to egp 100, 000, with amounts exceeding this\n",
      "partially disbursed via banking cheques. required documents include a lease or\n",
      "ownership deed, recent public utilities receipts, valid national ids, and\n",
      "additional financial documentation.\n",
      "\n",
      "\n",
      "product type : loans product name : mashrou'ak 2 product description : offers\n",
      "loans from egp 5, 000 to less than egp 50, 000 or up to egp 250, 000, with a 1 %\n",
      "charge deducted from the loan value. benefits include immediate renewal upon\n",
      "full repayment and a 3 % commission for accelerated payment, with renewal\n",
      "restricted to after 6 months. disbursement is in cash up to egp 100, 000, with\n",
      "amounts over this provided partially via cheques. required documents include a\n",
      "lease or ownership deed, recent utilities receipts, valid ids, and financial\n",
      "\n",
      "\n"
     ]
    }
   ],
   "source": [
    "for doc in new_sorted_docs:\n",
    "    print(word_wrap(doc))\n",
    "    print('\\n')"
   ]
  },
  {
   "cell_type": "code",
   "execution_count": 1,
   "metadata": {},
   "outputs": [
    {
     "name": "stderr",
     "output_type": "stream",
     "text": [
      "c:\\Users\\hima\\AppData\\Local\\Programs\\Python\\Python311\\Lib\\site-packages\\sentence_transformers\\cross_encoder\\CrossEncoder.py:11: TqdmExperimentalWarning: Using `tqdm.autonotebook.tqdm` in notebook mode. Use `tqdm.tqdm` instead to force console mode (e.g. in jupyter console)\n",
      "  from tqdm.autonotebook import tqdm, trange\n"
     ]
    }
   ],
   "source": [
    "from sentence_transformers import CrossEncoder\n",
    "import numpy as np\n",
    "import warnings\n",
    "import chromadb\n",
    "from chromadb.utils.embedding_functions import SentenceTransformerEmbeddingFunction\n",
    "import pickle\n",
    "\n",
    "warnings.filterwarnings('ignore')\n",
    "\n",
    "\n",
    "class InfoRetrial:\n",
    "    def __init__(self, chroma_data_path: str = 'chroma_data/collection_data.pkl') -> None:\n",
    "        self.is_collection_loaded = False\n",
    "        self.chroma_collection: chromadb.Collection | None = None\n",
    "        self.cross_encoder = None\n",
    "        self.chroma_data_path = chroma_data_path\n",
    "\n",
    "    def load_chroma_collection(self):\n",
    "\n",
    "        chroma_client = chromadb.Client()\n",
    "        embedding_function = SentenceTransformerEmbeddingFunction()\n",
    "\n",
    "        chroma_collection = chroma_client.get_or_create_collection(\n",
    "            name=\"banking-products-chroma\",\n",
    "            embedding_function=embedding_function\n",
    "        )\n",
    "\n",
    "        with open(self.chroma_data_path, 'rb') as file:\n",
    "            data = pickle.load(file)\n",
    "\n",
    "        # Extract IDs and documents\n",
    "        new_ids = data['ids']\n",
    "        token_split_texts = data['documents']\n",
    "\n",
    "        chroma_collection.add(\n",
    "            ids=new_ids,\n",
    "            documents=token_split_texts\n",
    "        )\n",
    "\n",
    "        self.chroma_collection = chroma_collection\n",
    "        self.cross_encoder = CrossEncoder(\n",
    "            'cross-encoder/ms-marco-MiniLM-L-6-v2')\n",
    "\n",
    "        self.is_collection_loaded = True\n",
    "\n",
    "    def query(self, query_texts: str, n_results: int = 10):\n",
    "        if not self.is_collection_loaded:\n",
    "            self.load_chroma_collection()\n",
    "\n",
    "        res_docs = self.chroma_collection.query(  # type: ignore\n",
    "            query_texts=[query_texts],\n",
    "            n_results=n_results\n",
    "        )['documents'][0]\n",
    "\n",
    "        pairs = [[query, doc] for doc in res_docs]\n",
    "        scores = self.cross_encoder.predict(pairs)   # type: ignore\n",
    "\n",
    "        new_sorted_indexes = np.argsort(scores)[::-1]\n",
    "        new_sorted_docs = np.array(res_docs)[new_sorted_indexes]\n",
    "\n",
    "        return new_sorted_docs"
   ]
  },
  {
   "cell_type": "code",
   "execution_count": 2,
   "metadata": {},
   "outputs": [],
   "source": [
    "info = InfoRetrial()\n",
    "info.load_chroma_collection()"
   ]
  },
  {
   "cell_type": "code",
   "execution_count": 5,
   "metadata": {},
   "outputs": [],
   "source": [
    "query = '''\n",
    "What are the loan most interesting?\n",
    "'''"
   ]
  },
  {
   "cell_type": "code",
   "execution_count": 6,
   "metadata": {},
   "outputs": [
    {
     "data": {
      "text/plain": [
       "array(['product type : loans product name : mashroui mashrouak product description : mashroui mashrouak is a loan product designed to support existing projects with sales between egp 1 million and egp 50 million, focusing on development, expansion, replacement, and renewal. it provides financing for various enterprises, including industrial, commercial, services, and environmentally - friendly projects, such as clean energy initiatives. the loan features a 5 % simple diminishing interest rate for industrial, services, and professions, with a competitive rate for commercial activities. loan amounts range from egp 250, 000 to egp 8 million, with terms between 1 to 5 years, including a grace period tailored to the project. required documents include a recent transcript from the commercial registry, tax card, activity license, taxation and insurance status, property documents, company budgets, and a feasibility study for new projects.',\n",
       "       'product type : loans product name : school financing product product description : the school financing product is a loan designed for private schools, institutes, and universities. it helps finance the purchase of school buses, construction or expansion of buildings, and classroom equipment. the loan amount can go up to egp 20 million, with financing rates of 80 % for buses / classrooms and 70 % for buildings. it offers medium to long - term financing, up to 5 years with a grace period of up to 9 months. required documents include certified financial statements, a financial and technical study, a business activity license, industrial and commercial registrations, a tax card, and a license to',\n",
       "       'product type : loans product name : loan product for financing pos and qr code merchants product description : this medium - term loan is designed to finance working capital for small projects with annual sales between one million to less than 50 million pounds, including individual and corporate establishments. it offers loans ranging from egp 100 thousand to egp 3 million with a term between 12 to 36 months. customers can benefit from a 5 % decreasing interest rate if subject to the central bank of egypt ’ s instructions, or a competitive rate for commercial activities if not. the loan is secured against cash flows from pos and qr code transactions. required documents include a recent transcript from the commercial registry, tax card, activity license, taxation and insurance status, project location ’ s ownership deed or lease contract, financial budgets, and articles of incorporation.',\n",
       "       'product _ type : loans product _ name : short - term financing for working capital product description : this loan product offers short - term financing to support the working capital needs of existing manufacturing, retail, and service enterprises. eligible businesses must have yearly revenues between 1 and 50 million egyptian pounds. loans range from 100 thousand to 2 million pounds, with repayment terms between 1 - 6 months and no grace period. required documents include a national id, commercial registry extract, electricity bill, tax card, and p. o. s. statements. recent audited financial statements are necessary for businesses with revenues over 20 million egp.',\n",
       "       'product type : loans product name : mashrouak 2 product description : the mashrouak 2 loan provides financing for commercial, industrial, and service sectors, with loan amounts ranging from egp 75, 000 to egp 400, 000. the loan term is between 12 to 36 months, with monthly installments and an interest rate of the discount rate plus 3 % per annum. required documents include copies of lease or ownership contracts, valid national id, recent utilities bills, tax cards, commercial registration, and insurance payment receipts. eligibility criteria include specific age restrictions, nationality requirements, and the ability to read and write.',\n",
       "       'product type : loans product name : mashrouak 1 product description : the mashrouak 1 loan offers financing between egp 30, 000 and egp 75, 000, targeting commercial, industrial, and service sectors, excluding certain prohibited activities. the loan tenor ranges from 6 to 24 months, with a 28 % p. a. decreasing interest rate. monthly installments are required. key documents include a lease or ownership contract, valid national id, recent utility bill, and military status certificate for customers under 35. the loan is available to egyptian nationals aged 21 to 65, with specific criteria for guarantors and project establishment.',\n",
       "       'product type : loans product name : financing societies, private institutions, and msme financing companies product description : this loan product is tailored for societies, private institutions, and msme financing companies, offering negotiable charges. it provides comprehensive financial services to support the growth and operations of these entities under law no. 141 of 2014. the product includes short and long - term financing options and integrates services with various bank sectors to ensure high service standards. required documents include all official paperwork necessary for credit evaluation. eligibility criteria include being an egyptian national, aged between 21 and 65, with a good reputation and the',\n",
       "       'product type : loans product name : mashrou ’ ak 1 product description : provides loans ranging from egp 5, 000 to less than egp 50, 000 or up to egp 250, 000. a 1 % charge is deducted from the loan amount. benefits include the possibility of immediate renewal upon full repayment, with the project requiring reassessment for renewal. accelerated payment is allowed with a 3 % commission on the remaining balance, but renewal is restricted to every 6 months. disbursement is in cash up to egp 100, 000, with amounts exceeding this partially disbursed via banking cheques. required documents include a lease or ownership deed, recent public utilities receipts, valid national ids, and additional financial documentation.',\n",
       "       \"product type : loans product name : mashrou'ak 2 product description : offers loans from egp 5, 000 to less than egp 50, 000 or up to egp 250, 000, with a 1 % charge deducted from the loan value. benefits include immediate renewal upon full repayment and a 3 % commission for accelerated payment, with renewal restricted to after 6 months. disbursement is in cash up to egp 100, 000, with amounts over this provided partially via cheques. required documents include a lease or ownership deed, recent utilities receipts, valid ids, and financial\",\n",
       "       'product type : loans product name : financing societies, private institutions, and msme financing companies product description : this loan product supports financing societies, private institutions, and msme financing companies operating under law no. 141 of 2014, and up to egp 250 thousand. charges are negotiable. benefits include assessing customer needs for micro financing, offering finance packages for growth, and providing integrated services with bank sectors. required documents are all necessary official documents for credit evaluation. eligibility includes having the activity established for at least one year, being an egyptian national aged 21 - 65, and meeting specific conditions related to creditworthiness and operational history.'],\n",
       "      dtype='<U936')"
      ]
     },
     "execution_count": 6,
     "metadata": {},
     "output_type": "execute_result"
    }
   ],
   "source": [
    "info.query(query)"
   ]
  }
 ],
 "metadata": {
  "kernelspec": {
   "display_name": "Python 3",
   "language": "python",
   "name": "python3"
  },
  "language_info": {
   "codemirror_mode": {
    "name": "ipython",
    "version": 3
   },
   "file_extension": ".py",
   "mimetype": "text/x-python",
   "name": "python",
   "nbconvert_exporter": "python",
   "pygments_lexer": "ipython3",
   "version": "3.13.3"
  }
 },
 "nbformat": 4,
 "nbformat_minor": 2
}
